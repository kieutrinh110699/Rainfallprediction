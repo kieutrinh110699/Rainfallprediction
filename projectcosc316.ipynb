{
 "cells": [
  {
   "cell_type": "code",
   "execution_count": 1,
   "id": "3d4762f2",
   "metadata": {},
   "outputs": [],
   "source": [
    "import numpy as np\n",
    "import matplotlib.pyplot as plt\n",
    "import seaborn as sns\n",
    "import pandas as pd\n",
    "import mglearn\n",
    "from sklearn.compose import ColumnTransformer\n",
    "from sklearn.decomposition import PCA\n",
    "from sklearn.ensemble import RandomForestRegressor\n",
    "from sklearn.ensemble import GradientBoostingRegressor\n",
    "from sklearn.feature_selection import SelectFromModel\n",
    "from sklearn.impute import SimpleImputer\n",
    "from sklearn.linear_model import Ridge\n",
    "from sklearn.linear_model import Lasso\n",
    "from sklearn.linear_model import ElasticNet\n",
    "from sklearn.linear_model import LogisticRegression\n",
    "from sklearn.linear_model import LinearRegression\n",
    "from sklearn.metrics import accuracy_score\n",
    "from sklearn.model_selection import train_test_split\n",
    "from sklearn.model_selection import GridSearchCV\n",
    "from sklearn.model_selection import cross_val_score\n",
    "from sklearn.model_selection import KFold\n",
    "from sklearn.pipeline import Pipeline\n",
    "from sklearn.pipeline import make_pipeline\n",
    "from sklearn.preprocessing import MinMaxScaler\n",
    "from sklearn.svm import SVR\n",
    "from sklearn.metrics import precision_recall_fscore_support\n",
    "from sklearn.metrics import confusion_matrix\n",
    "from sklearn.metrics import r2_score "
   ]
  },
  {
   "cell_type": "code",
   "execution_count": 2,
   "id": "3a107bda",
   "metadata": {},
   "outputs": [
    {
     "data": {
      "text/html": [
       "<div>\n",
       "<style scoped>\n",
       "    .dataframe tbody tr th:only-of-type {\n",
       "        vertical-align: middle;\n",
       "    }\n",
       "\n",
       "    .dataframe tbody tr th {\n",
       "        vertical-align: top;\n",
       "    }\n",
       "\n",
       "    .dataframe thead th {\n",
       "        text-align: right;\n",
       "    }\n",
       "</style>\n",
       "<table border=\"1\" class=\"dataframe\">\n",
       "  <thead>\n",
       "    <tr style=\"text-align: right;\">\n",
       "      <th></th>\n",
       "      <th>Station</th>\n",
       "      <th>Date</th>\n",
       "      <th>MaxT</th>\n",
       "      <th>MinT</th>\n",
       "      <th>RH1</th>\n",
       "      <th>RH2</th>\n",
       "      <th>Wind</th>\n",
       "      <th>Rain</th>\n",
       "      <th>SSH</th>\n",
       "      <th>Evap</th>\n",
       "      <th>...</th>\n",
       "      <th>Cum_Rain</th>\n",
       "      <th>Unnamed: 15</th>\n",
       "      <th>Unnamed: 16</th>\n",
       "      <th>Unnamed: 17</th>\n",
       "      <th>Unnamed: 18</th>\n",
       "      <th>Unnamed: 19</th>\n",
       "      <th>Unnamed: 20</th>\n",
       "      <th>Unnamed: 21</th>\n",
       "      <th>Unnamed: 22</th>\n",
       "      <th>Unnamed: 23</th>\n",
       "    </tr>\n",
       "  </thead>\n",
       "  <tbody>\n",
       "    <tr>\n",
       "      <th>0</th>\n",
       "      <td>ICRISAT</td>\n",
       "      <td>1/1/1978</td>\n",
       "      <td>28.5</td>\n",
       "      <td>14.2</td>\n",
       "      <td>68</td>\n",
       "      <td>31.0</td>\n",
       "      <td>5.7</td>\n",
       "      <td>0.0</td>\n",
       "      <td>10.1</td>\n",
       "      <td>4.3</td>\n",
       "      <td>...</td>\n",
       "      <td>0.0</td>\n",
       "      <td>NaN</td>\n",
       "      <td>NaN</td>\n",
       "      <td>NaN</td>\n",
       "      <td>NaN</td>\n",
       "      <td>NaN</td>\n",
       "      <td>NaN</td>\n",
       "      <td>NaN</td>\n",
       "      <td>NaN</td>\n",
       "      <td>NaN</td>\n",
       "    </tr>\n",
       "    <tr>\n",
       "      <th>1</th>\n",
       "      <td>ICRISAT</td>\n",
       "      <td>1/2/1978</td>\n",
       "      <td>28.8</td>\n",
       "      <td>16.0</td>\n",
       "      <td>79</td>\n",
       "      <td>33.0</td>\n",
       "      <td>6.4</td>\n",
       "      <td>0.0</td>\n",
       "      <td>9.8</td>\n",
       "      <td>4.8</td>\n",
       "      <td>...</td>\n",
       "      <td>0.0</td>\n",
       "      <td>NaN</td>\n",
       "      <td>NaN</td>\n",
       "      <td>NaN</td>\n",
       "      <td>NaN</td>\n",
       "      <td>NaN</td>\n",
       "      <td>NaN</td>\n",
       "      <td>NaN</td>\n",
       "      <td>NaN</td>\n",
       "      <td>NaN</td>\n",
       "    </tr>\n",
       "    <tr>\n",
       "      <th>2</th>\n",
       "      <td>ICRISAT</td>\n",
       "      <td>1/3/1978</td>\n",
       "      <td>29.0</td>\n",
       "      <td>14.5</td>\n",
       "      <td>86</td>\n",
       "      <td>37.0</td>\n",
       "      <td>5.4</td>\n",
       "      <td>0.0</td>\n",
       "      <td>9.1</td>\n",
       "      <td>4.6</td>\n",
       "      <td>...</td>\n",
       "      <td>0.0</td>\n",
       "      <td>NaN</td>\n",
       "      <td>NaN</td>\n",
       "      <td>NaN</td>\n",
       "      <td>NaN</td>\n",
       "      <td>NaN</td>\n",
       "      <td>NaN</td>\n",
       "      <td>NaN</td>\n",
       "      <td>NaN</td>\n",
       "      <td>NaN</td>\n",
       "    </tr>\n",
       "    <tr>\n",
       "      <th>3</th>\n",
       "      <td>ICRISAT</td>\n",
       "      <td>1/4/1978</td>\n",
       "      <td>29.0</td>\n",
       "      <td>18.0</td>\n",
       "      <td>89</td>\n",
       "      <td>43.0</td>\n",
       "      <td>7.1</td>\n",
       "      <td>0.0</td>\n",
       "      <td>9.0</td>\n",
       "      <td>4.2</td>\n",
       "      <td>...</td>\n",
       "      <td>0.0</td>\n",
       "      <td>NaN</td>\n",
       "      <td>NaN</td>\n",
       "      <td>NaN</td>\n",
       "      <td>NaN</td>\n",
       "      <td>NaN</td>\n",
       "      <td>NaN</td>\n",
       "      <td>NaN</td>\n",
       "      <td>NaN</td>\n",
       "      <td>NaN</td>\n",
       "    </tr>\n",
       "    <tr>\n",
       "      <th>4</th>\n",
       "      <td>ICRISAT</td>\n",
       "      <td>1/5/1978</td>\n",
       "      <td>27.8</td>\n",
       "      <td>17.0</td>\n",
       "      <td>81</td>\n",
       "      <td>47.0</td>\n",
       "      <td>10.5</td>\n",
       "      <td>0.0</td>\n",
       "      <td>8.9</td>\n",
       "      <td>4.3</td>\n",
       "      <td>...</td>\n",
       "      <td>0.0</td>\n",
       "      <td>NaN</td>\n",
       "      <td>NaN</td>\n",
       "      <td>NaN</td>\n",
       "      <td>NaN</td>\n",
       "      <td>NaN</td>\n",
       "      <td>NaN</td>\n",
       "      <td>NaN</td>\n",
       "      <td>NaN</td>\n",
       "      <td>NaN</td>\n",
       "    </tr>\n",
       "  </tbody>\n",
       "</table>\n",
       "<p>5 rows × 24 columns</p>\n",
       "</div>"
      ],
      "text/plain": [
       "   Station      Date  MaxT  MinT  RH1   RH2  Wind  Rain   SSH  Evap  ...  \\\n",
       "0  ICRISAT  1/1/1978  28.5  14.2   68  31.0   5.7   0.0  10.1   4.3  ...   \n",
       "1  ICRISAT  1/2/1978  28.8  16.0   79  33.0   6.4   0.0   9.8   4.8  ...   \n",
       "2  ICRISAT  1/3/1978  29.0  14.5   86  37.0   5.4   0.0   9.1   4.6  ...   \n",
       "3  ICRISAT  1/4/1978  29.0  18.0   89  43.0   7.1   0.0   9.0   4.2  ...   \n",
       "4  ICRISAT  1/5/1978  27.8  17.0   81  47.0  10.5   0.0   8.9   4.3  ...   \n",
       "\n",
       "   Cum_Rain  Unnamed: 15  Unnamed: 16  Unnamed: 17  Unnamed: 18  Unnamed: 19  \\\n",
       "0       0.0          NaN          NaN          NaN          NaN          NaN   \n",
       "1       0.0          NaN          NaN          NaN          NaN          NaN   \n",
       "2       0.0          NaN          NaN          NaN          NaN          NaN   \n",
       "3       0.0          NaN          NaN          NaN          NaN          NaN   \n",
       "4       0.0          NaN          NaN          NaN          NaN          NaN   \n",
       "\n",
       "   Unnamed: 20  Unnamed: 21  Unnamed: 22  Unnamed: 23  \n",
       "0          NaN          NaN          NaN          NaN  \n",
       "1          NaN          NaN          NaN          NaN  \n",
       "2          NaN          NaN          NaN          NaN  \n",
       "3          NaN          NaN          NaN          NaN  \n",
       "4          NaN          NaN          NaN          NaN  \n",
       "\n",
       "[5 rows x 24 columns]"
      ]
     },
     "execution_count": 2,
     "metadata": {},
     "output_type": "execute_result"
    }
   ],
   "source": [
    "# 1. Selecting dataset\n",
    "\n",
    "df = pd.read_csv('weather.csv')\n",
    "df.head(5)"
   ]
  },
  {
   "cell_type": "code",
   "execution_count": 3,
   "id": "566ab5d7",
   "metadata": {},
   "outputs": [],
   "source": [
    "# 2: Transforming & cleaning data\n",
    "dataset = df.drop(['Unnamed: 15','Unnamed: 16','Unnamed: 17', 'Unnamed: 18', 'Unnamed: 19', 'Unnamed: 20', 'Unnamed: 21', 'Unnamed: 22','Unnamed: 23'], axis=1)"
   ]
  },
  {
   "cell_type": "code",
   "execution_count": 4,
   "id": "17be1b9f",
   "metadata": {},
   "outputs": [
    {
     "name": "stdout",
     "output_type": "stream",
     "text": [
      "<class 'pandas.core.frame.DataFrame'>\n",
      "RangeIndex: 14853 entries, 0 to 14852\n",
      "Data columns (total 15 columns):\n",
      " #   Column     Non-Null Count  Dtype  \n",
      "---  ------     --------------  -----  \n",
      " 0   Station    14853 non-null  object \n",
      " 1   Date       14853 non-null  object \n",
      " 2   MaxT       14853 non-null  float64\n",
      " 3   MinT       14853 non-null  float64\n",
      " 4   RH1        14853 non-null  int64  \n",
      " 5   RH2        14853 non-null  float64\n",
      " 6   Wind       14853 non-null  float64\n",
      " 7   Rain       14853 non-null  float64\n",
      " 8   SSH        14853 non-null  float64\n",
      " 9   Evap       14853 non-null  float64\n",
      " 10  Radiation  14852 non-null  float64\n",
      " 11  FAO56_ET   14853 non-null  float64\n",
      " 12  Lat        14853 non-null  float64\n",
      " 13  Lon        14853 non-null  float64\n",
      " 14  Cum_Rain   14853 non-null  float64\n",
      "dtypes: float64(12), int64(1), object(2)\n",
      "memory usage: 1.7+ MB\n"
     ]
    }
   ],
   "source": [
    "# Get the datatype info of each attribute\n",
    "dataset.info()"
   ]
  },
  {
   "cell_type": "code",
   "execution_count": 5,
   "id": "7d172b89",
   "metadata": {},
   "outputs": [
    {
     "data": {
      "text/plain": [
       "Station      0\n",
       "Date         0\n",
       "MaxT         0\n",
       "MinT         0\n",
       "RH1          0\n",
       "RH2          0\n",
       "Wind         0\n",
       "Rain         0\n",
       "SSH          0\n",
       "Evap         0\n",
       "Radiation    1\n",
       "FAO56_ET     0\n",
       "Lat          0\n",
       "Lon          0\n",
       "Cum_Rain     0\n",
       "dtype: int64"
      ]
     },
     "execution_count": 5,
     "metadata": {},
     "output_type": "execute_result"
    }
   ],
   "source": [
    "# Check if there is any null values in the dataset\n",
    "dataset.isnull().sum()"
   ]
  },
  {
   "cell_type": "code",
   "execution_count": 6,
   "id": "11989041",
   "metadata": {},
   "outputs": [
    {
     "data": {
      "text/html": [
       "<div>\n",
       "<style scoped>\n",
       "    .dataframe tbody tr th:only-of-type {\n",
       "        vertical-align: middle;\n",
       "    }\n",
       "\n",
       "    .dataframe tbody tr th {\n",
       "        vertical-align: top;\n",
       "    }\n",
       "\n",
       "    .dataframe thead th {\n",
       "        text-align: right;\n",
       "    }\n",
       "</style>\n",
       "<table border=\"1\" class=\"dataframe\">\n",
       "  <thead>\n",
       "    <tr style=\"text-align: right;\">\n",
       "      <th></th>\n",
       "      <th>MaxT</th>\n",
       "      <th>MinT</th>\n",
       "      <th>RH1</th>\n",
       "      <th>RH2</th>\n",
       "      <th>Wind</th>\n",
       "      <th>Rain</th>\n",
       "      <th>SSH</th>\n",
       "      <th>Evap</th>\n",
       "      <th>Radiation</th>\n",
       "      <th>FAO56_ET</th>\n",
       "      <th>Lat</th>\n",
       "      <th>Lon</th>\n",
       "      <th>Cum_Rain</th>\n",
       "    </tr>\n",
       "  </thead>\n",
       "  <tbody>\n",
       "    <tr>\n",
       "      <th>count</th>\n",
       "      <td>14853.000000</td>\n",
       "      <td>14853.000000</td>\n",
       "      <td>14853.000000</td>\n",
       "      <td>14853.000000</td>\n",
       "      <td>14853.000000</td>\n",
       "      <td>14853.000000</td>\n",
       "      <td>14853.000000</td>\n",
       "      <td>14853.000000</td>\n",
       "      <td>14852.000000</td>\n",
       "      <td>14853.000000</td>\n",
       "      <td>1.485300e+04</td>\n",
       "      <td>1.485300e+04</td>\n",
       "      <td>14853.000000</td>\n",
       "    </tr>\n",
       "    <tr>\n",
       "      <th>mean</th>\n",
       "      <td>32.055807</td>\n",
       "      <td>19.568720</td>\n",
       "      <td>81.586481</td>\n",
       "      <td>43.550549</td>\n",
       "      <td>8.692278</td>\n",
       "      <td>2.460378</td>\n",
       "      <td>7.457052</td>\n",
       "      <td>6.420043</td>\n",
       "      <td>17.877027</td>\n",
       "      <td>4.808901</td>\n",
       "      <td>1.750841e+01</td>\n",
       "      <td>7.827230e+01</td>\n",
       "      <td>386.065347</td>\n",
       "    </tr>\n",
       "    <tr>\n",
       "      <th>std</th>\n",
       "      <td>4.115165</td>\n",
       "      <td>4.504939</td>\n",
       "      <td>15.055169</td>\n",
       "      <td>19.613665</td>\n",
       "      <td>4.795461</td>\n",
       "      <td>9.346085</td>\n",
       "      <td>3.341868</td>\n",
       "      <td>3.132334</td>\n",
       "      <td>4.508112</td>\n",
       "      <td>1.816996</td>\n",
       "      <td>3.932986e-12</td>\n",
       "      <td>7.688331e-12</td>\n",
       "      <td>398.752032</td>\n",
       "    </tr>\n",
       "    <tr>\n",
       "      <th>min</th>\n",
       "      <td>16.500000</td>\n",
       "      <td>4.500000</td>\n",
       "      <td>17.000000</td>\n",
       "      <td>6.300000</td>\n",
       "      <td>0.200000</td>\n",
       "      <td>0.000000</td>\n",
       "      <td>0.000000</td>\n",
       "      <td>0.000000</td>\n",
       "      <td>0.800000</td>\n",
       "      <td>0.400000</td>\n",
       "      <td>1.750841e+01</td>\n",
       "      <td>7.827230e+01</td>\n",
       "      <td>0.000000</td>\n",
       "    </tr>\n",
       "    <tr>\n",
       "      <th>25%</th>\n",
       "      <td>29.000000</td>\n",
       "      <td>16.500000</td>\n",
       "      <td>75.000000</td>\n",
       "      <td>28.000000</td>\n",
       "      <td>5.200000</td>\n",
       "      <td>0.000000</td>\n",
       "      <td>5.500000</td>\n",
       "      <td>4.200000</td>\n",
       "      <td>15.500000</td>\n",
       "      <td>3.500000</td>\n",
       "      <td>1.750841e+01</td>\n",
       "      <td>7.827230e+01</td>\n",
       "      <td>29.600000</td>\n",
       "    </tr>\n",
       "    <tr>\n",
       "      <th>50%</th>\n",
       "      <td>31.000000</td>\n",
       "      <td>21.000000</td>\n",
       "      <td>87.000000</td>\n",
       "      <td>40.000000</td>\n",
       "      <td>7.600000</td>\n",
       "      <td>0.000000</td>\n",
       "      <td>8.800000</td>\n",
       "      <td>5.600000</td>\n",
       "      <td>18.200000</td>\n",
       "      <td>4.400000</td>\n",
       "      <td>1.750841e+01</td>\n",
       "      <td>7.827230e+01</td>\n",
       "      <td>225.400000</td>\n",
       "    </tr>\n",
       "    <tr>\n",
       "      <th>75%</th>\n",
       "      <td>35.000000</td>\n",
       "      <td>22.600000</td>\n",
       "      <td>93.000000</td>\n",
       "      <td>57.000000</td>\n",
       "      <td>11.200000</td>\n",
       "      <td>0.000000</td>\n",
       "      <td>10.100000</td>\n",
       "      <td>8.300000</td>\n",
       "      <td>21.100000</td>\n",
       "      <td>5.900000</td>\n",
       "      <td>1.750841e+01</td>\n",
       "      <td>7.827230e+01</td>\n",
       "      <td>687.700000</td>\n",
       "    </tr>\n",
       "    <tr>\n",
       "      <th>max</th>\n",
       "      <td>43.500000</td>\n",
       "      <td>30.600000</td>\n",
       "      <td>100.000000</td>\n",
       "      <td>100.000000</td>\n",
       "      <td>56.000000</td>\n",
       "      <td>263.600000</td>\n",
       "      <td>12.400000</td>\n",
       "      <td>19.700000</td>\n",
       "      <td>28.300000</td>\n",
       "      <td>13.600000</td>\n",
       "      <td>1.750841e+01</td>\n",
       "      <td>7.827230e+01</td>\n",
       "      <td>1520.400000</td>\n",
       "    </tr>\n",
       "  </tbody>\n",
       "</table>\n",
       "</div>"
      ],
      "text/plain": [
       "               MaxT          MinT           RH1           RH2          Wind  \\\n",
       "count  14853.000000  14853.000000  14853.000000  14853.000000  14853.000000   \n",
       "mean      32.055807     19.568720     81.586481     43.550549      8.692278   \n",
       "std        4.115165      4.504939     15.055169     19.613665      4.795461   \n",
       "min       16.500000      4.500000     17.000000      6.300000      0.200000   \n",
       "25%       29.000000     16.500000     75.000000     28.000000      5.200000   \n",
       "50%       31.000000     21.000000     87.000000     40.000000      7.600000   \n",
       "75%       35.000000     22.600000     93.000000     57.000000     11.200000   \n",
       "max       43.500000     30.600000    100.000000    100.000000     56.000000   \n",
       "\n",
       "               Rain           SSH          Evap     Radiation      FAO56_ET  \\\n",
       "count  14853.000000  14853.000000  14853.000000  14852.000000  14853.000000   \n",
       "mean       2.460378      7.457052      6.420043     17.877027      4.808901   \n",
       "std        9.346085      3.341868      3.132334      4.508112      1.816996   \n",
       "min        0.000000      0.000000      0.000000      0.800000      0.400000   \n",
       "25%        0.000000      5.500000      4.200000     15.500000      3.500000   \n",
       "50%        0.000000      8.800000      5.600000     18.200000      4.400000   \n",
       "75%        0.000000     10.100000      8.300000     21.100000      5.900000   \n",
       "max      263.600000     12.400000     19.700000     28.300000     13.600000   \n",
       "\n",
       "                Lat           Lon      Cum_Rain  \n",
       "count  1.485300e+04  1.485300e+04  14853.000000  \n",
       "mean   1.750841e+01  7.827230e+01    386.065347  \n",
       "std    3.932986e-12  7.688331e-12    398.752032  \n",
       "min    1.750841e+01  7.827230e+01      0.000000  \n",
       "25%    1.750841e+01  7.827230e+01     29.600000  \n",
       "50%    1.750841e+01  7.827230e+01    225.400000  \n",
       "75%    1.750841e+01  7.827230e+01    687.700000  \n",
       "max    1.750841e+01  7.827230e+01   1520.400000  "
      ]
     },
     "execution_count": 6,
     "metadata": {},
     "output_type": "execute_result"
    }
   ],
   "source": [
    "# Get descriptive statistics of all attributes and eye-balling for any outliers in the dataset\n",
    "dataset.describe()"
   ]
  },
  {
   "cell_type": "code",
   "execution_count": 7,
   "id": "627be0b8",
   "metadata": {},
   "outputs": [
    {
     "name": "stderr",
     "output_type": "stream",
     "text": [
      "/opt/anaconda3/lib/python3.8/site-packages/seaborn/_decorators.py:36: FutureWarning: Pass the following variable as a keyword arg: x. From version 0.12, the only valid positional argument will be `data`, and passing other arguments without an explicit keyword will result in an error or misinterpretation.\n",
      "  warnings.warn(\n"
     ]
    },
    {
     "data": {
      "text/plain": [
       "<AxesSubplot:xlabel='Wind'>"
      ]
     },
     "execution_count": 7,
     "metadata": {},
     "output_type": "execute_result"
    },
    {
     "data": {
      "image/png": "[encoded data removed]",
      "text/plain": [
       "<Figure size 432x288 with 1 Axes>"
      ]
     },
     "metadata": {
      "needs_background": "light"
     },
     "output_type": "display_data"
    }
   ],
   "source": [
    "# Plot the \"Wind\" attribute to see if there are outliers\n",
    "sns.boxplot(dataset['Wind'])"
   ]
  },
  {
   "cell_type": "code",
   "execution_count": 8,
   "id": "43d1ede9",
   "metadata": {},
   "outputs": [
    {
     "name": "stderr",
     "output_type": "stream",
     "text": [
      "/opt/anaconda3/lib/python3.8/site-packages/seaborn/_decorators.py:36: FutureWarning: Pass the following variable as a keyword arg: x. From version 0.12, the only valid positional argument will be `data`, and passing other arguments without an explicit keyword will result in an error or misinterpretation.\n",
      "  warnings.warn(\n"
     ]
    },
    {
     "data": {
      "text/plain": [
       "<AxesSubplot:xlabel='Wind'>"
      ]
     },
     "execution_count": 8,
     "metadata": {},
     "output_type": "execute_result"
    },
    {
     "data": {
      "image/png": "[encoded data removed]",
      "text/plain": [
       "<Figure size 432x288 with 1 Axes>"
      ]
     },
     "metadata": {
      "needs_background": "light"
     },
     "output_type": "display_data"
    }
   ],
   "source": [
    "# Remove the row where the outlier for \"Wind\" were found\n",
    "dataset = dataset.drop(dataset[dataset['Wind'] > 40].index,axis = 0)\n",
    "sns.boxplot(dataset['Wind'])"
   ]
  },
  {
   "cell_type": "code",
   "execution_count": 9,
   "id": "e9090f35",
   "metadata": {},
   "outputs": [
    {
     "name": "stderr",
     "output_type": "stream",
     "text": [
      "/opt/anaconda3/lib/python3.8/site-packages/seaborn/_decorators.py:36: FutureWarning: Pass the following variable as a keyword arg: x. From version 0.12, the only valid positional argument will be `data`, and passing other arguments without an explicit keyword will result in an error or misinterpretation.\n",
      "  warnings.warn(\n"
     ]
    },
    {
     "data": {
      "text/plain": [
       "<AxesSubplot:xlabel='Rain'>"
      ]
     },
     "execution_count": 9,
     "metadata": {},
     "output_type": "execute_result"
    },
    {
     "data": {
      "image/png": "[encoded data removed]",
      "text/plain": [
       "<Figure size 432x288 with 1 Axes>"
      ]
     },
     "metadata": {
      "needs_background": "light"
     },
     "output_type": "display_data"
    }
   ],
   "source": [
    "# Plot the \"Rain\" attribute to see if there are outliers\n",
    "sns.boxplot(dataset['Rain'])"
   ]
  },
  {
   "cell_type": "code",
   "execution_count": 10,
   "id": "b3f03634",
   "metadata": {},
   "outputs": [
    {
     "name": "stderr",
     "output_type": "stream",
     "text": [
      "/opt/anaconda3/lib/python3.8/site-packages/seaborn/_decorators.py:36: FutureWarning: Pass the following variable as a keyword arg: x. From version 0.12, the only valid positional argument will be `data`, and passing other arguments without an explicit keyword will result in an error or misinterpretation.\n",
      "  warnings.warn(\n"
     ]
    },
    {
     "data": {
      "text/plain": [
       "<AxesSubplot:xlabel='Rain'>"
      ]
     },
     "execution_count": 10,
     "metadata": {},
     "output_type": "execute_result"
    },
    {
     "data": {
      "image/png": "[encoded data removed]",
      "text/plain": [
       "<Figure size 432x288 with 1 Axes>"
      ]
     },
     "metadata": {
      "needs_background": "light"
     },
     "output_type": "display_data"
    }
   ],
   "source": [
    "# Remove the row where the outlier for \"Rain\" were found\n",
    "dataset = dataset.drop(dataset[dataset['Rain'] > 125].index,axis = 0)\n",
    "sns.boxplot(dataset['Rain'])"
   ]
  },
  {
   "cell_type": "code",
   "execution_count": 11,
   "id": "337b9b5e",
   "metadata": {},
   "outputs": [
    {
     "data": {
      "text/html": [
       "<div>\n",
       "<style scoped>\n",
       "    .dataframe tbody tr th:only-of-type {\n",
       "        vertical-align: middle;\n",
       "    }\n",
       "\n",
       "    .dataframe tbody tr th {\n",
       "        vertical-align: top;\n",
       "    }\n",
       "\n",
       "    .dataframe thead th {\n",
       "        text-align: right;\n",
       "    }\n",
       "</style>\n",
       "<table border=\"1\" class=\"dataframe\">\n",
       "  <thead>\n",
       "    <tr style=\"text-align: right;\">\n",
       "      <th></th>\n",
       "      <th>Station</th>\n",
       "      <th>Date</th>\n",
       "      <th>MaxT</th>\n",
       "      <th>MinT</th>\n",
       "      <th>RH1</th>\n",
       "      <th>RH2</th>\n",
       "      <th>Wind</th>\n",
       "      <th>Rain</th>\n",
       "      <th>SSH</th>\n",
       "      <th>Evap</th>\n",
       "      <th>Radiation</th>\n",
       "      <th>FAO56_ET</th>\n",
       "      <th>Lat</th>\n",
       "      <th>Lon</th>\n",
       "      <th>Cum_Rain</th>\n",
       "    </tr>\n",
       "  </thead>\n",
       "  <tbody>\n",
       "    <tr>\n",
       "      <th>0</th>\n",
       "      <td>ICRISAT</td>\n",
       "      <td>1/1/1978</td>\n",
       "      <td>28.5</td>\n",
       "      <td>14.2</td>\n",
       "      <td>68</td>\n",
       "      <td>31.0</td>\n",
       "      <td>5.7</td>\n",
       "      <td>0.0</td>\n",
       "      <td>10.1</td>\n",
       "      <td>4.3</td>\n",
       "      <td>18.4</td>\n",
       "      <td>3.9</td>\n",
       "      <td>17.508409</td>\n",
       "      <td>78.2723</td>\n",
       "      <td>0.0</td>\n",
       "    </tr>\n",
       "    <tr>\n",
       "      <th>1</th>\n",
       "      <td>ICRISAT</td>\n",
       "      <td>1/2/1978</td>\n",
       "      <td>28.8</td>\n",
       "      <td>16.0</td>\n",
       "      <td>79</td>\n",
       "      <td>33.0</td>\n",
       "      <td>6.4</td>\n",
       "      <td>0.0</td>\n",
       "      <td>9.8</td>\n",
       "      <td>4.8</td>\n",
       "      <td>16.9</td>\n",
       "      <td>3.9</td>\n",
       "      <td>17.508409</td>\n",
       "      <td>78.2723</td>\n",
       "      <td>0.0</td>\n",
       "    </tr>\n",
       "    <tr>\n",
       "      <th>2</th>\n",
       "      <td>ICRISAT</td>\n",
       "      <td>1/3/1978</td>\n",
       "      <td>29.0</td>\n",
       "      <td>14.5</td>\n",
       "      <td>86</td>\n",
       "      <td>37.0</td>\n",
       "      <td>5.4</td>\n",
       "      <td>0.0</td>\n",
       "      <td>9.1</td>\n",
       "      <td>4.6</td>\n",
       "      <td>15.3</td>\n",
       "      <td>3.4</td>\n",
       "      <td>17.508409</td>\n",
       "      <td>78.2723</td>\n",
       "      <td>0.0</td>\n",
       "    </tr>\n",
       "    <tr>\n",
       "      <th>3</th>\n",
       "      <td>ICRISAT</td>\n",
       "      <td>1/4/1978</td>\n",
       "      <td>29.0</td>\n",
       "      <td>18.0</td>\n",
       "      <td>89</td>\n",
       "      <td>43.0</td>\n",
       "      <td>7.1</td>\n",
       "      <td>0.0</td>\n",
       "      <td>9.0</td>\n",
       "      <td>4.2</td>\n",
       "      <td>16.4</td>\n",
       "      <td>3.8</td>\n",
       "      <td>17.508409</td>\n",
       "      <td>78.2723</td>\n",
       "      <td>0.0</td>\n",
       "    </tr>\n",
       "    <tr>\n",
       "      <th>4</th>\n",
       "      <td>ICRISAT</td>\n",
       "      <td>1/5/1978</td>\n",
       "      <td>27.8</td>\n",
       "      <td>17.0</td>\n",
       "      <td>81</td>\n",
       "      <td>47.0</td>\n",
       "      <td>10.5</td>\n",
       "      <td>0.0</td>\n",
       "      <td>8.9</td>\n",
       "      <td>4.3</td>\n",
       "      <td>15.9</td>\n",
       "      <td>4.1</td>\n",
       "      <td>17.508409</td>\n",
       "      <td>78.2723</td>\n",
       "      <td>0.0</td>\n",
       "    </tr>\n",
       "    <tr>\n",
       "      <th>...</th>\n",
       "      <td>...</td>\n",
       "      <td>...</td>\n",
       "      <td>...</td>\n",
       "      <td>...</td>\n",
       "      <td>...</td>\n",
       "      <td>...</td>\n",
       "      <td>...</td>\n",
       "      <td>...</td>\n",
       "      <td>...</td>\n",
       "      <td>...</td>\n",
       "      <td>...</td>\n",
       "      <td>...</td>\n",
       "      <td>...</td>\n",
       "      <td>...</td>\n",
       "      <td>...</td>\n",
       "    </tr>\n",
       "    <tr>\n",
       "      <th>14845</th>\n",
       "      <td>ICRISAT</td>\n",
       "      <td>24-Aug-2018</td>\n",
       "      <td>29.5</td>\n",
       "      <td>22.4</td>\n",
       "      <td>88</td>\n",
       "      <td>69.0</td>\n",
       "      <td>10.6</td>\n",
       "      <td>0.0</td>\n",
       "      <td>2.1</td>\n",
       "      <td>4.0</td>\n",
       "      <td>14.0</td>\n",
       "      <td>3.7</td>\n",
       "      <td>17.508409</td>\n",
       "      <td>78.2723</td>\n",
       "      <td>1488.7</td>\n",
       "    </tr>\n",
       "    <tr>\n",
       "      <th>14846</th>\n",
       "      <td>ICRISAT</td>\n",
       "      <td>25-Aug-2018</td>\n",
       "      <td>30.2</td>\n",
       "      <td>23.0</td>\n",
       "      <td>85</td>\n",
       "      <td>60.0</td>\n",
       "      <td>10.9</td>\n",
       "      <td>0.0</td>\n",
       "      <td>9.4</td>\n",
       "      <td>5.2</td>\n",
       "      <td>19.0</td>\n",
       "      <td>4.8</td>\n",
       "      <td>17.508409</td>\n",
       "      <td>78.2723</td>\n",
       "      <td>1488.7</td>\n",
       "    </tr>\n",
       "    <tr>\n",
       "      <th>14847</th>\n",
       "      <td>ICRISAT</td>\n",
       "      <td>26-Aug-2018</td>\n",
       "      <td>30.2</td>\n",
       "      <td>23.0</td>\n",
       "      <td>87</td>\n",
       "      <td>61.0</td>\n",
       "      <td>10.0</td>\n",
       "      <td>0.0</td>\n",
       "      <td>5.3</td>\n",
       "      <td>4.3</td>\n",
       "      <td>18.3</td>\n",
       "      <td>4.6</td>\n",
       "      <td>17.508409</td>\n",
       "      <td>78.2723</td>\n",
       "      <td>1488.7</td>\n",
       "    </tr>\n",
       "    <tr>\n",
       "      <th>14851</th>\n",
       "      <td>ICRISAT</td>\n",
       "      <td>30-Aug-2018</td>\n",
       "      <td>30.6</td>\n",
       "      <td>23.0</td>\n",
       "      <td>87</td>\n",
       "      <td>59.0</td>\n",
       "      <td>8.2</td>\n",
       "      <td>0.0</td>\n",
       "      <td>9.8</td>\n",
       "      <td>5.2</td>\n",
       "      <td>19.7</td>\n",
       "      <td>4.7</td>\n",
       "      <td>17.508409</td>\n",
       "      <td>78.2723</td>\n",
       "      <td>1520.4</td>\n",
       "    </tr>\n",
       "    <tr>\n",
       "      <th>14852</th>\n",
       "      <td>ICRISAT</td>\n",
       "      <td>31-Aug-2018</td>\n",
       "      <td>30.6</td>\n",
       "      <td>23.0</td>\n",
       "      <td>90</td>\n",
       "      <td>62.0</td>\n",
       "      <td>7.0</td>\n",
       "      <td>0.0</td>\n",
       "      <td>9.8</td>\n",
       "      <td>4.9</td>\n",
       "      <td>18.0</td>\n",
       "      <td>4.3</td>\n",
       "      <td>17.508409</td>\n",
       "      <td>78.2723</td>\n",
       "      <td>1520.4</td>\n",
       "    </tr>\n",
       "  </tbody>\n",
       "</table>\n",
       "<p>11597 rows × 15 columns</p>\n",
       "</div>"
      ],
      "text/plain": [
       "       Station         Date  MaxT  MinT  RH1   RH2  Wind  Rain   SSH  Evap  \\\n",
       "0      ICRISAT     1/1/1978  28.5  14.2   68  31.0   5.7   0.0  10.1   4.3   \n",
       "1      ICRISAT     1/2/1978  28.8  16.0   79  33.0   6.4   0.0   9.8   4.8   \n",
       "2      ICRISAT     1/3/1978  29.0  14.5   86  37.0   5.4   0.0   9.1   4.6   \n",
       "3      ICRISAT     1/4/1978  29.0  18.0   89  43.0   7.1   0.0   9.0   4.2   \n",
       "4      ICRISAT     1/5/1978  27.8  17.0   81  47.0  10.5   0.0   8.9   4.3   \n",
       "...        ...          ...   ...   ...  ...   ...   ...   ...   ...   ...   \n",
       "14845  ICRISAT  24-Aug-2018  29.5  22.4   88  69.0  10.6   0.0   2.1   4.0   \n",
       "14846  ICRISAT  25-Aug-2018  30.2  23.0   85  60.0  10.9   0.0   9.4   5.2   \n",
       "14847  ICRISAT  26-Aug-2018  30.2  23.0   87  61.0  10.0   0.0   5.3   4.3   \n",
       "14851  ICRISAT  30-Aug-2018  30.6  23.0   87  59.0   8.2   0.0   9.8   5.2   \n",
       "14852  ICRISAT  31-Aug-2018  30.6  23.0   90  62.0   7.0   0.0   9.8   4.9   \n",
       "\n",
       "       Radiation  FAO56_ET        Lat      Lon  Cum_Rain  \n",
       "0           18.4       3.9  17.508409  78.2723       0.0  \n",
       "1           16.9       3.9  17.508409  78.2723       0.0  \n",
       "2           15.3       3.4  17.508409  78.2723       0.0  \n",
       "3           16.4       3.8  17.508409  78.2723       0.0  \n",
       "4           15.9       4.1  17.508409  78.2723       0.0  \n",
       "...          ...       ...        ...      ...       ...  \n",
       "14845       14.0       3.7  17.508409  78.2723    1488.7  \n",
       "14846       19.0       4.8  17.508409  78.2723    1488.7  \n",
       "14847       18.3       4.6  17.508409  78.2723    1488.7  \n",
       "14851       19.7       4.7  17.508409  78.2723    1520.4  \n",
       "14852       18.0       4.3  17.508409  78.2723    1520.4  \n",
       "\n",
       "[11597 rows x 15 columns]"
      ]
     },
     "execution_count": 11,
     "metadata": {},
     "output_type": "execute_result"
    }
   ],
   "source": [
    "# Check for why the values are concentrated around 0.0\n",
    "dataset[dataset['Rain'] == 0]"
   ]
  },
  {
   "cell_type": "code",
   "execution_count": 12,
   "id": "4b2dca60",
   "metadata": {},
   "outputs": [
    {
     "data": {
      "text/plain": [
       "Text(0, 0.5, 'Precipitation in inches')"
      ]
     },
     "execution_count": 12,
     "metadata": {},
     "output_type": "execute_result"
    },
    {
     "data": {
      "image/png": "[encoded data removed]",
      "text/plain": [
       "<Figure size 432x288 with 1 Axes>"
      ]
     },
     "metadata": {
      "needs_background": "light"
     },
     "output_type": "display_data"
    }
   ],
   "source": [
    "# plt.scatter(dataset['Rain'], x_vis[x_vis.columns.values[i][:100]],                                               color = 'g')\n",
    "# plt.scatter(days[day_index], x_vis[x_vis.columns.values[i]][day_index], color ='r')\n",
    "# plt.title(x_vis.columns.values[i])\n",
    "\n",
    "plt.scatter(dataset['Date'][:100], dataset['Rain'][:100], color = 'g')\n",
    "# plt.scatter(days[day_index], Y[day_index], color ='r')\n",
    "plt.title(\"Precipitation level\")\n",
    "plt.xlabel(\"Days\")\n",
    "plt.ylabel(\"Precipitation in inches\")"
   ]
  },
  {
   "cell_type": "code",
   "execution_count": 13,
   "id": "bfcd0dca",
   "metadata": {},
   "outputs": [],
   "source": [
    "# Split the data into train and test set\n",
    "X_train, X_test, y_train, y_test = train_test_split(dataset.drop(['Station','Date','Cum_Rain','Radiation', 'Rain'], axis=1), dataset[\"Rain\"], random_state=0)"
   ]
  },
  {
   "cell_type": "code",
   "execution_count": 14,
   "id": "e56f92c3",
   "metadata": {},
   "outputs": [
    {
     "name": "stdout",
     "output_type": "stream",
     "text": [
      "(11133, 10)\n",
      "(3712, 10)\n",
      "(11133,)\n",
      "(3712,)\n"
     ]
    }
   ],
   "source": [
    "# Get the shape of the train and test set\n",
    "\n",
    "print(X_train.shape)\n",
    "print(X_test.shape)\n",
    "print(y_train.shape)\n",
    "print(y_test.shape)"
   ]
  },
  {
   "cell_type": "code",
   "execution_count": 15,
   "id": "e66b9d09",
   "metadata": {},
   "outputs": [
    {
     "data": {
      "text/html": [
       "<div>\n",
       "<style scoped>\n",
       "    .dataframe tbody tr th:only-of-type {\n",
       "        vertical-align: middle;\n",
       "    }\n",
       "\n",
       "    .dataframe tbody tr th {\n",
       "        vertical-align: top;\n",
       "    }\n",
       "\n",
       "    .dataframe thead th {\n",
       "        text-align: right;\n",
       "    }\n",
       "</style>\n",
       "<table border=\"1\" class=\"dataframe\">\n",
       "  <thead>\n",
       "    <tr style=\"text-align: right;\">\n",
       "      <th></th>\n",
       "      <th>MaxT</th>\n",
       "      <th>MinT</th>\n",
       "      <th>RH1</th>\n",
       "      <th>RH2</th>\n",
       "      <th>Wind</th>\n",
       "      <th>Rain</th>\n",
       "      <th>SSH</th>\n",
       "      <th>Evap</th>\n",
       "      <th>Radiation</th>\n",
       "      <th>FAO56_ET</th>\n",
       "      <th>Lat</th>\n",
       "      <th>Lon</th>\n",
       "      <th>Cum_Rain</th>\n",
       "    </tr>\n",
       "  </thead>\n",
       "  <tbody>\n",
       "    <tr>\n",
       "      <th>count</th>\n",
       "      <td>14845.000000</td>\n",
       "      <td>14845.000000</td>\n",
       "      <td>14845.000000</td>\n",
       "      <td>14845.000000</td>\n",
       "      <td>14845.000000</td>\n",
       "      <td>14845.000000</td>\n",
       "      <td>14845.000000</td>\n",
       "      <td>14845.000000</td>\n",
       "      <td>14844.000000</td>\n",
       "      <td>14845.000000</td>\n",
       "      <td>1.484500e+04</td>\n",
       "      <td>1.484500e+04</td>\n",
       "      <td>14845.000000</td>\n",
       "    </tr>\n",
       "    <tr>\n",
       "      <th>mean</th>\n",
       "      <td>32.058073</td>\n",
       "      <td>19.568582</td>\n",
       "      <td>81.580936</td>\n",
       "      <td>43.535487</td>\n",
       "      <td>8.683921</td>\n",
       "      <td>2.386298</td>\n",
       "      <td>7.459818</td>\n",
       "      <td>6.422034</td>\n",
       "      <td>17.881494</td>\n",
       "      <td>4.809411</td>\n",
       "      <td>1.750841e+01</td>\n",
       "      <td>7.827230e+01</td>\n",
       "      <td>385.950037</td>\n",
       "    </tr>\n",
       "    <tr>\n",
       "      <th>std</th>\n",
       "      <td>4.114003</td>\n",
       "      <td>4.505847</td>\n",
       "      <td>15.056858</td>\n",
       "      <td>19.600830</td>\n",
       "      <td>4.767411</td>\n",
       "      <td>8.523452</td>\n",
       "      <td>3.339594</td>\n",
       "      <td>3.131628</td>\n",
       "      <td>4.502697</td>\n",
       "      <td>1.815459</td>\n",
       "      <td>3.932987e-12</td>\n",
       "      <td>7.730965e-12</td>\n",
       "      <td>398.698962</td>\n",
       "    </tr>\n",
       "    <tr>\n",
       "      <th>min</th>\n",
       "      <td>16.500000</td>\n",
       "      <td>4.500000</td>\n",
       "      <td>17.000000</td>\n",
       "      <td>6.300000</td>\n",
       "      <td>0.200000</td>\n",
       "      <td>0.000000</td>\n",
       "      <td>0.000000</td>\n",
       "      <td>0.000000</td>\n",
       "      <td>0.800000</td>\n",
       "      <td>0.400000</td>\n",
       "      <td>1.750841e+01</td>\n",
       "      <td>7.827230e+01</td>\n",
       "      <td>0.000000</td>\n",
       "    </tr>\n",
       "    <tr>\n",
       "      <th>25%</th>\n",
       "      <td>29.000000</td>\n",
       "      <td>16.500000</td>\n",
       "      <td>75.000000</td>\n",
       "      <td>28.000000</td>\n",
       "      <td>5.200000</td>\n",
       "      <td>0.000000</td>\n",
       "      <td>5.500000</td>\n",
       "      <td>4.200000</td>\n",
       "      <td>15.500000</td>\n",
       "      <td>3.500000</td>\n",
       "      <td>1.750841e+01</td>\n",
       "      <td>7.827230e+01</td>\n",
       "      <td>29.600000</td>\n",
       "    </tr>\n",
       "    <tr>\n",
       "      <th>50%</th>\n",
       "      <td>31.000000</td>\n",
       "      <td>21.000000</td>\n",
       "      <td>87.000000</td>\n",
       "      <td>40.000000</td>\n",
       "      <td>7.600000</td>\n",
       "      <td>0.000000</td>\n",
       "      <td>8.800000</td>\n",
       "      <td>5.600000</td>\n",
       "      <td>18.200000</td>\n",
       "      <td>4.400000</td>\n",
       "      <td>1.750841e+01</td>\n",
       "      <td>7.827230e+01</td>\n",
       "      <td>225.400000</td>\n",
       "    </tr>\n",
       "    <tr>\n",
       "      <th>75%</th>\n",
       "      <td>35.000000</td>\n",
       "      <td>22.600000</td>\n",
       "      <td>93.000000</td>\n",
       "      <td>57.000000</td>\n",
       "      <td>11.200000</td>\n",
       "      <td>0.000000</td>\n",
       "      <td>10.100000</td>\n",
       "      <td>8.300000</td>\n",
       "      <td>21.100000</td>\n",
       "      <td>5.900000</td>\n",
       "      <td>1.750841e+01</td>\n",
       "      <td>7.827230e+01</td>\n",
       "      <td>687.700000</td>\n",
       "    </tr>\n",
       "    <tr>\n",
       "      <th>max</th>\n",
       "      <td>43.500000</td>\n",
       "      <td>30.600000</td>\n",
       "      <td>100.000000</td>\n",
       "      <td>100.000000</td>\n",
       "      <td>34.700000</td>\n",
       "      <td>121.600000</td>\n",
       "      <td>12.400000</td>\n",
       "      <td>19.700000</td>\n",
       "      <td>28.300000</td>\n",
       "      <td>13.600000</td>\n",
       "      <td>1.750841e+01</td>\n",
       "      <td>7.827230e+01</td>\n",
       "      <td>1520.400000</td>\n",
       "    </tr>\n",
       "  </tbody>\n",
       "</table>\n",
       "</div>"
      ],
      "text/plain": [
       "               MaxT          MinT           RH1           RH2          Wind  \\\n",
       "count  14845.000000  14845.000000  14845.000000  14845.000000  14845.000000   \n",
       "mean      32.058073     19.568582     81.580936     43.535487      8.683921   \n",
       "std        4.114003      4.505847     15.056858     19.600830      4.767411   \n",
       "min       16.500000      4.500000     17.000000      6.300000      0.200000   \n",
       "25%       29.000000     16.500000     75.000000     28.000000      5.200000   \n",
       "50%       31.000000     21.000000     87.000000     40.000000      7.600000   \n",
       "75%       35.000000     22.600000     93.000000     57.000000     11.200000   \n",
       "max       43.500000     30.600000    100.000000    100.000000     34.700000   \n",
       "\n",
       "               Rain           SSH          Evap     Radiation      FAO56_ET  \\\n",
       "count  14845.000000  14845.000000  14845.000000  14844.000000  14845.000000   \n",
       "mean       2.386298      7.459818      6.422034     17.881494      4.809411   \n",
       "std        8.523452      3.339594      3.131628      4.502697      1.815459   \n",
       "min        0.000000      0.000000      0.000000      0.800000      0.400000   \n",
       "25%        0.000000      5.500000      4.200000     15.500000      3.500000   \n",
       "50%        0.000000      8.800000      5.600000     18.200000      4.400000   \n",
       "75%        0.000000     10.100000      8.300000     21.100000      5.900000   \n",
       "max      121.600000     12.400000     19.700000     28.300000     13.600000   \n",
       "\n",
       "                Lat           Lon      Cum_Rain  \n",
       "count  1.484500e+04  1.484500e+04  14845.000000  \n",
       "mean   1.750841e+01  7.827230e+01    385.950037  \n",
       "std    3.932987e-12  7.730965e-12    398.698962  \n",
       "min    1.750841e+01  7.827230e+01      0.000000  \n",
       "25%    1.750841e+01  7.827230e+01     29.600000  \n",
       "50%    1.750841e+01  7.827230e+01    225.400000  \n",
       "75%    1.750841e+01  7.827230e+01    687.700000  \n",
       "max    1.750841e+01  7.827230e+01   1520.400000  "
      ]
     },
     "execution_count": 15,
     "metadata": {},
     "output_type": "execute_result"
    }
   ],
   "source": [
    "#3: Validate the data\n",
    "dataset.describe()"
   ]
  },
  {
   "cell_type": "code",
   "execution_count": 16,
   "id": "b3a3ba05",
   "metadata": {},
   "outputs": [],
   "source": [
    "dataset1= dataset.drop(['Station','Date','Cum_Rain','Radiation'],axis=1)"
   ]
  },
  {
   "cell_type": "code",
   "execution_count": 17,
   "id": "cbd20f21",
   "metadata": {},
   "outputs": [],
   "source": [
    "#4 Preprocess with MinMaxscale\n",
    "minmax = MinMaxScaler()\n",
    "minmax.fit(X_train)\n",
    "\n",
    "X_scaled_train = minmax.transform(X_train)\n",
    "X_scaled_test = minmax.transform(X_test)\n",
    "\n",
    "#5 Reduce the dimensionality with PCA\n",
    "pca = PCA(n_components=2)\n",
    "pca.fit(X_scaled_train)\n",
    "\n",
    "X_pca_train = pca.transform(X_scaled_train)\n",
    "X_pca_test=pca.transform(X_scaled_test)"
   ]
  },
  {
   "cell_type": "code",
   "execution_count": 18,
   "id": "9594f800",
   "metadata": {},
   "outputs": [
    {
     "name": "stdout",
     "output_type": "stream",
     "text": [
      "Training Accuracy 0.07309561075983906\n",
      "Testing Accuracy 0.06263194174787756\n"
     ]
    }
   ],
   "source": [
    "#6 Train data on SVR\n",
    "\n",
    "svr = SVR()\n",
    "svr.fit(X_pca_train,y_train)\n",
    "print('Training Accuracy', svr.score(X_pca_train,y_train))\n",
    "print('Testing Accuracy', svr.score(X_pca_test,y_test))\n",
    "\n",
    "# The SVR models seem to be more underfitting than linear regression meaning that it does not perform well"
   ]
  },
  {
   "cell_type": "code",
   "execution_count": 19,
   "id": "6376c55d",
   "metadata": {},
   "outputs": [
    {
     "name": "stdout",
     "output_type": "stream",
     "text": [
      "Training Accuracy 0.23268488272474852\n",
      "Testing Accuracy 0.20801723848525233\n"
     ]
    }
   ],
   "source": [
    "#6 Train data on Random Forest Regressor\n",
    "\n",
    "forest = RandomForestRegressor(n_estimators=100, max_depth= 3)\n",
    "forest.fit(X_pca_train, y_train)\n",
    "print('Training Accuracy',forest.score(X_pca_train,y_train))\n",
    "print('Testing Accuracy',forest.score(X_pca_test,y_test))\n",
    "\n",
    "# The Random Forest Regressor models seem to be underfitting meaning that it does not perform well"
   ]
  },
  {
   "cell_type": "code",
   "execution_count": 20,
   "id": "268e36d1",
   "metadata": {},
   "outputs": [
    {
     "name": "stdout",
     "output_type": "stream",
     "text": [
      "Training set score: 0.14015042390768306\n",
      "Test set score: 0.13839454032347898\n"
     ]
    }
   ],
   "source": [
    "#6 Train data on Ridge Regression\n",
    "\n",
    "ridge = Ridge().fit(X_pca_train, y_train)\n",
    "print(\"Training set score:\",ridge.score(X_pca_train, y_train))\n",
    "print(\"Test set score:\",ridge.score(X_pca_test, y_test))\n",
    "\n",
    "# The Linear Regression models seem to be underfitting like Linear Regression meaning that it does not perform that well"
   ]
  },
  {
   "cell_type": "code",
   "execution_count": 21,
   "id": "d0c8180c",
   "metadata": {},
   "outputs": [
    {
     "name": "stdout",
     "output_type": "stream",
     "text": [
      "Best parameters: {'alpha': 100}\n",
      "Best cross-validation score: 0.19\n",
      "Test set score: 0.18\n"
     ]
    }
   ],
   "source": [
    "#6 Train data on Grid Search CV\n",
    "\n",
    "param_grid = {'alpha': [0.01, 0.1, 1, 10, 100]}\n",
    "\n",
    "grid = GridSearchCV(Ridge(), param_grid, cv = 5)\n",
    "grid.fit(X_train, y_train)\n",
    "\n",
    "print(\"Best parameters: {}\".format(grid.best_params_))\n",
    "print(\"Best cross-validation score: {:.2f}\".format(grid.best_score_))\n",
    "print(\"Test set score: {:.2f}\".format(grid.score(X_test, y_test)))\n",
    "\n",
    "# The Grid Search CV models seem to be underfitting as training and test score are the same\n",
    "# meaning that it does not perform that well"
   ]
  },
  {
   "cell_type": "code",
   "execution_count": 22,
   "id": "0a0671c2",
   "metadata": {},
   "outputs": [
    {
     "name": "stdout",
     "output_type": "stream",
     "text": [
      "Best parameters: {'classifier': Ridge(alpha=1), 'classifier__alpha': 1, 'preprocessing': MinMaxScaler()}\n",
      "Best cross-validation score: 0.12\n",
      "Test set score: 0.11\n"
     ]
    }
   ],
   "source": [
    "select = SelectFromModel(RandomForestRegressor(n_estimators=1))\n",
    "\n",
    "param_grid = [\n",
    "    {'preprocessing': [MinMaxScaler()],\n",
    "     'classifier': [RandomForestRegressor()],\n",
    "     'classifier__n_estimators':[1]},\n",
    "    \n",
    "    {'preprocessing': [MinMaxScaler()],\n",
    "     'classifier': [SVR()],\n",
    "     'classifier__C': [0.01, 0.1,1, 10, 100],\n",
    "      'classifier__gamma': [0.01, 0.1,1, 10, 100]},\n",
    "    \n",
    "    {'preprocessing': [MinMaxScaler()],\n",
    "     'classifier': [Ridge()],\n",
    "     'classifier__alpha': [0.01, 0.1,1, 10, 100]}\n",
    "]\n",
    "\n",
    "pipe = Pipeline(\n",
    "    [('preprocessing', MinMaxScaler()),\n",
    "     ('selection',select),\n",
    "     ('classifier', RandomForestRegressor())])\n",
    "fold = KFold(n_splits = 5, shuffle = True)\n",
    "grid = GridSearchCV(pipe, param_grid, cv = fold, n_jobs=-1)\n",
    "\n",
    "grid.fit(X_pca_train,y_train)\n",
    "grid.score(X_pca_test,y_test)\n",
    "\n",
    "print(\"Best parameters: {}\".format(grid.best_params_))\n",
    "print(\"Best cross-validation score: {:.2f}\".format(grid.best_score_))\n",
    "print(\"Test set score: {:.2f}\".format(grid.score(X_pca_test, y_test)))"
   ]
  },
  {
   "cell_type": "code",
   "execution_count": 23,
   "id": "8a445567",
   "metadata": {},
   "outputs": [
    {
     "data": {
      "text/plain": [
       "<matplotlib.collections.PolyCollection at 0x7feb237ea910>"
      ]
     },
     "execution_count": 23,
     "metadata": {},
     "output_type": "execute_result"
    },
    {
     "data": {
      "image/png": "[encoded data removed]",
      "text/plain": [
       "<Figure size 432x288 with 1 Axes>"
      ]
     },
     "metadata": {
      "needs_background": "light"
     },
     "output_type": "display_data"
    }
   ],
   "source": [
    "# display the heat map of SVR Grid Search CV\n",
    "result = pd.DataFrame(grid.cv_results_)\n",
    "\n",
    "result = result.drop([0], axis=0)\n",
    "result = result.drop(list(range(26, 31)), axis=0)\n",
    "\n",
    "\n",
    "mglearn.tools.heatmap(np.array(result['mean_test_score']).reshape(5, -1),\n",
    "                      xlabel=\"C\", ylabel=\"gamma\",\n",
    "                      xticklabels=param_grid[1]['classifier__C'],\n",
    "                      yticklabels=param_grid[1]['classifier__gamma'], vmin=0)\n",
    "#Our optimum parameter is on the border where we might need to expand the parameter set"
   ]
  },
  {
   "cell_type": "code",
   "execution_count": 24,
   "id": "f164c559",
   "metadata": {},
   "outputs": [],
   "source": [
    "pred_most_frequent = grid.predict(X_pca_test)"
   ]
  },
  {
   "cell_type": "code",
   "execution_count": 28,
   "id": "8c701019",
   "metadata": {},
   "outputs": [
    {
     "name": "stdout",
     "output_type": "stream",
     "text": [
      "R_square is 0.11360384186136241\n"
     ]
    }
   ],
   "source": [
    "R_square = r2_score(y_test,pred_most_frequent) \n",
    "print('R_square is', R_square) "
   ]
  },
  {
   "cell_type": "code",
   "execution_count": null,
   "id": "978545f7",
   "metadata": {},
   "outputs": [],
   "source": [
    "#We use preprocessing with MinMaxScaler to shift data feature between 0 and 1. We reduce dimensionality with PCA\n",
    "#After that, we use SVR, RandomForestRegression and Ridge. All the model are underfitting while RandomForestRegression give us the best score\n",
    "#We choose these model because they are appropriate for our data which is the regression \n",
    "#Gridsearch CV seems not perform well with best parameter with ridge regression with alpha =1 \n",
    "#We choose to use R_square score because the model is regression."
   ]
  }
 ],
 "metadata": {
  "kernelspec": {
   "display_name": "Python 3",
   "language": "python",
   "name": "python3"
  },
  "language_info": {
   "codemirror_mode": {
    "name": "ipython",
    "version": 3
   },
   "file_extension": ".py",
   "mimetype": "text/x-python",
   "name": "python",
   "nbconvert_exporter": "python",
   "pygments_lexer": "ipython3",
   "version": "3.8.8"
  }
 },
 "nbformat": 4,
 "nbformat_minor": 5
}
